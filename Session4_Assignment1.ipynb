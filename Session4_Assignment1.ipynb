{
 "cells": [
  {
   "cell_type": "markdown",
   "metadata": {},
   "source": [
    "# Assignment 4\n",
    "\n",
    "## Question 1.1 \n",
    "Python program to find the area of a triangle using class concept"
   ]
  },
  {
   "cell_type": "code",
   "execution_count": 5,
   "metadata": {},
   "outputs": [
    {
     "name": "stdout",
     "output_type": "stream",
     "text": [
      "Sides of the triangle: a=3, b=4 and c=5\n",
      "Area of the triangle: 6.0\n"
     ]
    }
   ],
   "source": [
    "class Triangle:                                              ###parent class\n",
    "    def __init__(self,a,b,c):                                ###a,b,c are the sides of the triangle\n",
    "        self.a=a\n",
    "        self.b=b\n",
    "        self.c=c\n",
    "        \n",
    "    def __str__(self):\n",
    "        return (\"Sides of the triangle: a=%d, b=%d and c=%d\" %(self.a,self.b,self.c))\n",
    "        \n",
    "class Area(Triangle):                                    ###Sub class\n",
    "    def __init__(self,a,b,c):\n",
    "        Triangle.__init__(self,a,b,c)\n",
    "    \n",
    "    def get_area(self):\n",
    "        s= (self.a+self.b+self.c)/2  \n",
    "        return (s*(s-self.a)*(s-self.b)*(s-self.c))**0.5\n",
    "    \n",
    "    \n",
    "x=Area(3,4,5)                                            ###Instance of sub class is created\n",
    "print(x)\n",
    "print(\"Area of the triangle: \" +str(x.get_area()))"
   ]
  },
  {
   "cell_type": "markdown",
   "metadata": {},
   "source": [
    "## Question 1.2\n",
    "Function filter_long_words() that takes a list of words and an integer n and returns the list of words that are longer than n"
   ]
  },
  {
   "cell_type": "code",
   "execution_count": 7,
   "metadata": {},
   "outputs": [
    {
     "name": "stdout",
     "output_type": "stream",
     "text": [
      "New List of Words: ['This', 'beautiful']\n"
     ]
    }
   ],
   "source": [
    "class list_Utilities:\n",
    "    def __init__(self, wordlist,n):\n",
    "        self.wordlist = wordlist\n",
    "        self.n=n\n",
    "\n",
    "    def filter_long_words(self):                 ### returns a list of words from wordlist which has length longer than n\n",
    "        return list(filter(lambda x:len(x) > self.n, self.wordlist))\n",
    "\n",
    "x = list_Utilities([\"This\",\"is\",\"a\",\"beautiful\",\"day\"],3)\n",
    "print(\"New List of Words: \" + str(x.filter_long_words()))"
   ]
  },
  {
   "cell_type": "markdown",
   "metadata": {},
   "source": [
    "## Question 2.1\n",
    "Python program that maps a list of words into a list of integers representing the lengths of the corresponding words\n"
   ]
  },
  {
   "cell_type": "code",
   "execution_count": 9,
   "metadata": {},
   "outputs": [
    {
     "name": "stdout",
     "output_type": "stream",
     "text": [
      "New List: [4, 2, 1, 9, 3]\n"
     ]
    }
   ],
   "source": [
    "class list_Utilities:\n",
    "    def __init__(self,wordlist):\n",
    "        self.wordlist = wordlist\n",
    "        \n",
    "    def map_words(self):                    ### maps the list of words with their corresponding lengths\n",
    "        return list(map((lambda x: len(x)),self.wordlist))\n",
    "    \n",
    "x = list_Utilities([\"This\",\"is\",\"a\",\"beautiful\",\"day\"])\n",
    "print(\"New List: \" + str(x.map_words()))"
   ]
  },
  {
   "cell_type": "markdown",
   "metadata": {},
   "source": [
    "## Question 2.2\n",
    "Python Program that takes a character and returns true if it's a vowel, false otherwise"
   ]
  },
  {
   "cell_type": "code",
   "execution_count": 11,
   "metadata": {},
   "outputs": [
    {
     "name": "stdout",
     "output_type": "stream",
     "text": [
      "Result : true\n"
     ]
    }
   ],
   "source": [
    "class list_Utilities:\n",
    "    def __init__(self,char):\n",
    "        self.char=char\n",
    "        \n",
    "    def vowel(self):\n",
    "        for find in ['A','a','E','e','I','i','O','o','U','u'] :   ### If char present in the vowel list then return true else false\n",
    "            if find==self.char: \n",
    "                return 'true'\n",
    "        else:\n",
    "            return 'false'\n",
    "        \n",
    "\n",
    "x = list_Utilities('i')\n",
    "print(\"Result : \" + str(x.vowel()))\n",
    "              "
   ]
  }
 ],
 "metadata": {
  "kernelspec": {
   "display_name": "Python 3",
   "language": "python",
   "name": "python3"
  },
  "language_info": {
   "codemirror_mode": {
    "name": "ipython",
    "version": 3
   },
   "file_extension": ".py",
   "mimetype": "text/x-python",
   "name": "python",
   "nbconvert_exporter": "python",
   "pygments_lexer": "ipython3",
   "version": "3.7.0"
  }
 },
 "nbformat": 4,
 "nbformat_minor": 2
}
